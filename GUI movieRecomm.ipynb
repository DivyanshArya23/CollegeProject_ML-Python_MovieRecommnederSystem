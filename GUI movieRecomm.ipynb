{
 "cells": [
  {
   "cell_type": "code",
   "execution_count": 10,
   "metadata": {},
   "outputs": [],
   "source": [
    "import tkinter as tk\n",
    "import tkinter.ttk\n",
    "import pandas as pd # import pandas library \n",
    "from tkinter import messagebox"
   ]
  },
  {
   "cell_type": "code",
   "execution_count": 11,
   "metadata": {},
   "outputs": [],
   "source": [
    "#creating tkinter window object-----------------------------------\n",
    "root=tk.Tk()\n",
    "root.title(\"Movie Recommender\")\n",
    "root.geometry('800x400')\n",
    "\n",
    "#getting_data_ready------------------------------------------------------------------\n",
    "column_names = ['user_id', 'item_id', 'rating', 'timestamp']\n",
    "path = 'user.tsv'\n",
    "df = pd.read_csv(path, sep='\\t', names=column_names)\n",
    "\n",
    "movie_titles = pd.read_csv('Movie_Id_Titles')\n",
    "data = pd.merge(df, movie_titles, on='item_id')\n",
    "\n",
    "ratings = pd.DataFrame(data.groupby('title')['rating'].mean())\n",
    "ratings['num of ratings'] = pd.DataFrame(data.groupby('title')['rating'].count())\n",
    "\n",
    "moviemat = data.pivot_table(index ='user_id', \n",
    "              columns ='title', values ='rating') \n",
    "\n",
    "#Predicting----------------------------------------------------------------\n",
    "def Analyse():\n",
    "    res=C1.get()\n",
    "    if(res!='<Select a Movie>'):\n",
    "        movie_user_ratings = moviemat[C1.get()] \n",
    "        similar_to_movie = moviemat.corrwith(movie_user_ratings) \n",
    "        corr_movie = pd.DataFrame(similar_to_movie, columns =['Correlation']) \n",
    "        corr_movie.dropna(inplace = True)\n",
    "        corr_movie.sort_values('Correlation', ascending = False)\n",
    "        corr_movie = corr_movie.join(ratings['num of ratings']) \n",
    "        #print(corr_movie.head())\n",
    "        result=corr_movie[corr_movie['num of ratings']>100][corr_movie['Correlation']>=0.5].sort_values('Correlation', ascending = False).head() \n",
    "        #print(result)\n",
    "        T1.config(state='normal')\n",
    "        T1.delete('1.0',tk.END)\n",
    "        T1.insert('1.0',result)\n",
    "        T1.config(state='disabled')\n",
    "\n",
    "        messagebox.showinfo('Report','Analysis Complete')\n",
    "\n",
    "    else:\n",
    "        messagebox.showinfo('Alert!','Please select a movie')\n",
    "        \n",
    "#setting widgets in tkinter window-----------------------------------------------------------------\n",
    "L1=tk.Label(root,text=\"Movie Recommender\",font=('bold',20))\n",
    "L1.pack()\n",
    "L1.place(x=10,y=5)\n",
    "\n",
    "movielist=list(movie_titles['title'])\n",
    "movielist.sort()\n",
    "C1=tk.ttk.Combobox(root,value=movielist,width=50,state=\"readonly\")\n",
    "C1.set('<Select a Movie>')\n",
    "C1.pack()\n",
    "C1.place(x=40,y=52)\n",
    "\n",
    "B1=tk.Button(root,text='Analyse',command=Analyse,bd=5)\n",
    "B1.pack()\n",
    "B1.place(x=380,y=47)\n",
    "\n",
    "T1=tk.Text(root,height=18,width=96,state='disabled',bd=5)\n",
    "T1.pack()\n",
    "T1.place(x=10,y=90)\n",
    "\n",
    "#running the tkinter window-------------------------------------------------------------------\n",
    "root.resizable(width=False,height=False)\n",
    "root.mainloop()"
   ]
  },
  {
   "cell_type": "code",
   "execution_count": null,
   "metadata": {},
   "outputs": [],
   "source": []
  }
 ],
 "metadata": {
  "kernelspec": {
   "display_name": "Python 3",
   "language": "python",
   "name": "python3"
  },
  "language_info": {
   "codemirror_mode": {
    "name": "ipython",
    "version": 3
   },
   "file_extension": ".py",
   "mimetype": "text/x-python",
   "name": "python",
   "nbconvert_exporter": "python",
   "pygments_lexer": "ipython3",
   "version": "3.7.3"
  }
 },
 "nbformat": 4,
 "nbformat_minor": 2
}
